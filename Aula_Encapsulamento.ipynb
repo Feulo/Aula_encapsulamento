{
 "cells": [
  {
   "cell_type": "markdown",
   "metadata": {
    "slideshow": {
     "slide_type": "slide"
    }
   },
   "source": [
    "# Encapsulamento em Python"
   ]
  },
  {
   "cell_type": "markdown",
   "metadata": {
    "slideshow": {
     "slide_type": "slide"
    }
   },
   "source": [
    "### 1. Atributos de instância "
   ]
  },
  {
   "cell_type": "code",
   "execution_count": 1,
   "metadata": {
    "slideshow": {
     "slide_type": "fragment"
    }
   },
   "outputs": [],
   "source": [
    "#Definição de uma classe sem atributos\n",
    "class P():\n",
    "    pass"
   ]
  },
  {
   "cell_type": "code",
   "execution_count": 2,
   "metadata": {
    "slideshow": {
     "slide_type": "fragment"
    }
   },
   "outputs": [
    {
     "name": "stdout",
     "output_type": "stream",
     "text": [
      "Os atributos de instância de 'a' são: {}\n",
      "Agora os atributos de instância de 'a' são: {'atr': 1}\n"
     ]
    }
   ],
   "source": [
    "#instanciando um objeto da classe P\n",
    "a = P()\n",
    "print(f\"Os atributos de instância de 'a' são: {vars(a)}\")\n",
    "#ao atribuirmos um valor a um atributo não existente ele é criado na instância\n",
    "a.atr = 1\n",
    "print(f\"Agora os atributos de instância de 'a' são: {vars(a)}\")"
   ]
  },
  {
   "cell_type": "code",
   "execution_count": 3,
   "metadata": {
    "slideshow": {
     "slide_type": "fragment"
    }
   },
   "outputs": [
    {
     "name": "stdout",
     "output_type": "stream",
     "text": [
      "Os atributos de instância de 'b' são: {}\n"
     ]
    }
   ],
   "source": [
    "#note que o atributo atr, não estará presente em outras instâncias de P\n",
    "b = P()\n",
    "print(f\"Os atributos de instância de 'b' são: {vars(b)}\")"
   ]
  },
  {
   "cell_type": "markdown",
   "metadata": {
    "slideshow": {
     "slide_type": "slide"
    }
   },
   "source": [
    "### Deixar o acesso aos atributos livre é perigoso!\n",
    "\n",
    "Um usuário mal intencionado pode alterar o valor de um atributo interno e causar mal funcionamento ao programa"
   ]
  },
  {
   "cell_type": "markdown",
   "metadata": {
    "slideshow": {
     "slide_type": "slide"
    }
   },
   "source": [
    "### 2. *Getters* e *Setters*"
   ]
  },
  {
   "cell_type": "code",
   "execution_count": 4,
   "metadata": {
    "slideshow": {
     "slide_type": "subslide"
    }
   },
   "outputs": [],
   "source": [
    "#Classe P com getters e setters\n",
    "class P():\n",
    "    #construtor da classe p \n",
    "    def __init__(self):\n",
    "        self.set_atr(0)\n",
    "    #getter para o atributo atr\n",
    "    def get_atr(self):\n",
    "        return self._atr\n",
    "    #setter para o atributo atr\n",
    "    def set_atr(self, new_value):\n",
    "        if new_value >= 0:\n",
    "            self._atr = new_value"
   ]
  },
  {
   "cell_type": "code",
   "execution_count": 5,
   "metadata": {
    "slideshow": {
     "slide_type": "fragment"
    }
   },
   "outputs": [
    {
     "name": "stdout",
     "output_type": "stream",
     "text": [
      "Os atributos de instância de 'a' são: {'_atr': 0}\n",
      "\n",
      "Se fizermos: a.set_atr(5)\n",
      "O valor do atributo tem seu valor modificado para: atr = 5\n",
      "\n",
      "Se fizermos: a.set_atr(-3)\n",
      "O valor do atributo não teve seu valor alterado. atr = 5\n",
      "\n",
      "Porém se fizermos: a.atr = 1\n",
      "Criamos um novo atributo de instância de 'a': {'_atr': 5, 'atr': 1}\n"
     ]
    }
   ],
   "source": [
    "a = P()\n",
    "print(f\"Os atributos de instância de 'a' são: {vars(a)}\\n\")\n",
    "#a leitura e escrita de valores no atributo é feita atravé d função 'get_atr()' e 'set_atr(new_value)'\n",
    "print(\"Se fizermos: a.set_atr(5)\")\n",
    "a.set_atr(5)\n",
    "print(f\"O valor do atributo tem seu valor modificado para: atr = {a.get_atr()}\\n\")\n",
    "print(\"Se fizermos: a.set_atr(-3)\")\n",
    "a.set_atr(-3)\n",
    "print(f\"O valor do atributo não teve seu valor alterado. atr = {a.get_atr()}\\n\")\n",
    "# se tentarmos modificar o valor do atributo como antes, criamos um novo atributo e o original se mantém\n",
    "print(\"Porém se fizermos: a.atr = 1\")\n",
    "a.atr= 1\n",
    "print(f\"Criamos um novo atributo de instância de 'a': {vars(a)}\")"
   ]
  },
  {
   "cell_type": "markdown",
   "metadata": {},
   "source": [
    "Assim, conseguimos ter um maior controle sobre a escrita e leitura dos atributos, porem ficamos com o incoveniente de termos que usar os métodos para nos referirmos aos atributos, o que pode ficar confuso."
   ]
  },
  {
   "cell_type": "code",
   "execution_count": 6,
   "metadata": {},
   "outputs": [],
   "source": [
    "#Getters e setters como propriedades\n",
    "class P():\n",
    "    #construtor da classe P\n",
    "    def __init__(self):\n",
    "        self.atr = 0\n",
    "    #getter para o atributo atr  \n",
    "    def get_atr(self):\n",
    "        return self._atr\n",
    "    #setter para o atributo atr\n",
    "    def set_atr(self,new_value):\n",
    "        if new_value >=0:\n",
    "            self._atr = new_value\n",
    "    #registra os getters e setter para o atributo 'atr'\n",
    "    atr = property(get_atr,set_atr)"
   ]
  },
  {
   "cell_type": "code",
   "execution_count": 7,
   "metadata": {},
   "outputs": [
    {
     "name": "stdout",
     "output_type": "stream",
     "text": [
      "Se fizermos: a.atr =5\n",
      "O valor do atributo tem seu valor modificado para: atr = 5\n",
      "\n",
      "Se fizermos: a.atr= -3\n",
      "O valor do atributo continua não sendo alterado alterado. atr = 5\n",
      "\n",
      "E os atributos de instância de 'a', ficam como o esperado: {'_atr': 5}\n"
     ]
    }
   ],
   "source": [
    "a = P()\n",
    "print(\"Se fizermos: a.atr =5\")\n",
    "a.atr = 5\n",
    "print(f\"O valor do atributo tem seu valor modificado para: atr = {a.atr}\\n\")\n",
    "print(\"Se fizermos: a.atr= -3\")\n",
    "a.atr = -3\n",
    "print(f\"O valor do atributo continua não sendo alterado alterado. atr = {a.atr}\\n\")\n",
    "# Não temos mais o problema com a criação de um atributo de instância\n",
    "print(f\"E os atributos de instância de 'a', ficam como o esperado: {vars(a)}\")"
   ]
  },
  {
   "cell_type": "markdown",
   "metadata": {},
   "source": [
    "### Podemos escrever de forma mais 'Pythonica'?"
   ]
  },
  {
   "cell_type": "code",
   "execution_count": 8,
   "metadata": {},
   "outputs": [],
   "source": [
    "#Classe P utilizando decorators para getters e setters\n",
    "class P():\n",
    "    #construtor da classe P\n",
    "    def __init__(self):\n",
    "        self._atr = 0\n",
    "    #definindo um atributo através do seu getter\n",
    "    @property   \n",
    "    def atr(self):\n",
    "        return self._atr\n",
    "    #definindo o seu setter\n",
    "    @atr.setter\n",
    "    def atr(self,new_value):\n",
    "        if new_value >= 0:\n",
    "            self._atr = new_value"
   ]
  },
  {
   "cell_type": "code",
   "execution_count": 9,
   "metadata": {},
   "outputs": [
    {
     "name": "stdout",
     "output_type": "stream",
     "text": [
      "Se fizermos: a.atr =5\n",
      "O valor do atributo tem seu valor modificado para: atr = 5\n",
      "\n",
      "Se fizermos: a.atr= -3\n",
      "O valor do atributo continua não sendo alterado alterado. atr = 5\n",
      "\n",
      "E os atributos de instância de 'a', ficam como o esperado: {'_atr': 5}\n"
     ]
    }
   ],
   "source": [
    "a = P()\n",
    "#tudo funciona igual ao exemplo anterior\n",
    "print(\"Se fizermos: a.atr =5\")\n",
    "a.atr = 5\n",
    "print(f\"O valor do atributo tem seu valor modificado para: atr = {a.atr}\\n\")\n",
    "print(\"Se fizermos: a.atr= -3\")\n",
    "a.atr= -3\n",
    "print(f\"O valor do atributo continua não sendo alterado alterado. atr = {a.atr}\\n\")\n",
    "print(f\"E os atributos de instância de 'a', ficam como o esperado: {vars(a)}\")"
   ]
  },
  {
   "cell_type": "markdown",
   "metadata": {},
   "source": [
    "### Python não possui controle de acesso!"
   ]
  },
  {
   "cell_type": "code",
   "execution_count": 11,
   "metadata": {},
   "outputs": [
    {
     "name": "stdout",
     "output_type": "stream",
     "text": [
      "Se fizermos: a._atr= -10\n",
      "O valor do atributo é alterado. atr = -10\n",
      "\n"
     ]
    }
   ],
   "source": [
    "print(\"Se fizermos: a._atr= -10\")\n",
    "a._atr = -10\n",
    "print(f\"O valor do atributo é alterado. atr = {a.atr}\\n\")"
   ]
  },
  {
   "cell_type": "code",
   "execution_count": null,
   "metadata": {},
   "outputs": [],
   "source": []
  }
 ],
 "metadata": {
  "celltoolbar": "Slideshow",
  "kernelspec": {
   "display_name": "Python 3",
   "language": "python",
   "name": "python3"
  },
  "language_info": {
   "codemirror_mode": {
    "name": "ipython",
    "version": 3
   },
   "file_extension": ".py",
   "mimetype": "text/x-python",
   "name": "python",
   "nbconvert_exporter": "python",
   "pygments_lexer": "ipython3",
   "version": "3.6.6"
  }
 },
 "nbformat": 4,
 "nbformat_minor": 2
}
